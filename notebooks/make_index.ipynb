{
 "cells": [
  {
   "cell_type": "code",
   "execution_count": 1,
   "id": "7cdc1de2-393b-4031-b38f-f6d8831ff844",
   "metadata": {},
   "outputs": [],
   "source": [
    "import json\n",
    "\n",
    "import pandas as pd\n",
    "from langchain_core.documents import Document\n",
    "from langchain_huggingface import HuggingFaceEmbeddings\n",
    "from langchain_community.vectorstores import FAISS\n",
    "\n",
    "from atomic_sovus.settings import EMBED_MODEL_ID"
   ]
  },
  {
   "cell_type": "code",
   "execution_count": 2,
   "id": "9efe604f-e48f-46a1-ad8c-72ff664992ff",
   "metadata": {},
   "outputs": [
    {
     "name": "stderr",
     "output_type": "stream",
     "text": [
      "/home/stepan/.cache/pypoetry/virtualenvs/atomic-sovus-1llw-em--py3.11/lib/python3.11/site-packages/tqdm/auto.py:21: TqdmWarning: IProgress not found. Please update jupyter and ipywidgets. See https://ipywidgets.readthedocs.io/en/stable/user_install.html\n",
      "  from .autonotebook import tqdm as notebook_tqdm\n",
      "/home/stepan/.cache/pypoetry/virtualenvs/atomic-sovus-1llw-em--py3.11/lib/python3.11/site-packages/huggingface_hub/file_download.py:1132: FutureWarning: `resume_download` is deprecated and will be removed in version 1.0.0. Downloads always resume when possible. If you want to force a new download, use `force_download=True`.\n",
      "  warnings.warn(\n"
     ]
    }
   ],
   "source": [
    "embedding_model = HuggingFaceEmbeddings(\n",
    "    model_name=EMBED_MODEL_ID,\n",
    "    model_kwargs={\"device\": \"cpu\"}\n",
    ")"
   ]
  },
  {
   "cell_type": "markdown",
   "id": "d075d1d9-1cb1-4a5c-9b6e-ea0681682de7",
   "metadata": {},
   "source": [
    "## Manual"
   ]
  },
  {
   "cell_type": "code",
   "execution_count": 2,
   "id": "6085e59c-9d2c-4041-9586-c6536022164c",
   "metadata": {},
   "outputs": [],
   "source": [
    "with open('titles_all.json') as f:\n",
    "    titles = json.load(f)"
   ]
  },
  {
   "cell_type": "code",
   "execution_count": 3,
   "id": "fd49eb5e-6ce5-42f4-a3f7-89976ca8731c",
   "metadata": {},
   "outputs": [],
   "source": [
    "documents = []\n",
    "for filename in titles.keys():\n",
    "    docname = titles[filename][\"name\"]\n",
    "    for titlename, page in titles[filename][\"titles\"].items():\n",
    "        page_content = \"\\n\".join([docname, titlename])\n",
    "        doc = Document(\n",
    "            page_content=page_content,\n",
    "            metadata={\"filename\": filename, \"page\": page, \"docname\": docname, \"titlename\": titlename}\n",
    "        )\n",
    "        documents.append(doc)"
   ]
  },
  {
   "cell_type": "code",
   "execution_count": 9,
   "id": "11b6ef7c-1371-45e1-8662-2a374173b0f0",
   "metadata": {},
   "outputs": [],
   "source": [
    "faiss_index_manual = FAISS.from_documents(documents, embedding_model)"
   ]
  },
  {
   "cell_type": "code",
   "execution_count": null,
   "id": "283976c2-41d9-45d7-8262-153b9273b0b8",
   "metadata": {},
   "outputs": [],
   "source": [
    "faiss_index_manual.save_local(\"../vectorstores/manual/faiss_index\")"
   ]
  },
  {
   "cell_type": "code",
   "execution_count": null,
   "id": "8f2cf253-8932-4fc2-aa71-a3c3022a7d1a",
   "metadata": {},
   "outputs": [],
   "source": []
  },
  {
   "cell_type": "code",
   "execution_count": null,
   "id": "65d5c81e-ae0d-43d2-bb39-59ebdc8ac1a1",
   "metadata": {},
   "outputs": [],
   "source": []
  },
  {
   "cell_type": "markdown",
   "id": "4f95c0ee-79f3-4baf-a2aa-aaed2f38b203",
   "metadata": {},
   "source": [
    "## FAQ"
   ]
  },
  {
   "cell_type": "code",
   "execution_count": null,
   "id": "1ee33abf-9305-4e13-83cc-a1a52375f078",
   "metadata": {},
   "outputs": [],
   "source": [
    "faq_df = pd.read_excel(\"../../data/Вопросы и ответы.xlsx\", sheet_name=\"TDSheet\", header=1)[[\"Описание\", \"Решение\"]]"
   ]
  },
  {
   "cell_type": "code",
   "execution_count": null,
   "id": "a7a680fd-7088-442b-8af5-6c8de669ee6c",
   "metadata": {},
   "outputs": [],
   "source": [
    "documents_faq = []\n",
    "for _, row in faq_df.iterrows():\n",
    "    question_from_faq = row[\"Описание\"]\n",
    "    answer_from_faq = row[\"Решение\"]\n",
    "    doc_faq = Document(\n",
    "        page_content=question_from_faq,\n",
    "        metadata={\"filename\": \"Вопросы и ответы.xlsx\", \"answer\": answer_from_faq},\n",
    "    )\n",
    "    documents_faq.append(doc_faq)"
   ]
  },
  {
   "cell_type": "code",
   "execution_count": null,
   "id": "b01d574e-eabe-4ec8-94bc-59d5e0187998",
   "metadata": {},
   "outputs": [],
   "source": [
    "faiss_index_faq = FAISS.from_documents(documents_faq, embedding_model)"
   ]
  },
  {
   "cell_type": "code",
   "execution_count": null,
   "id": "250de038-ac6f-4042-b15b-0d77dae295a6",
   "metadata": {},
   "outputs": [],
   "source": [
    "faiss_index_faq.save_local(\"../vectorstores/faq/faiss_index\")"
   ]
  },
  {
   "cell_type": "code",
   "execution_count": null,
   "id": "25d0b9c7-4ab3-4281-919a-345eb047b229",
   "metadata": {},
   "outputs": [],
   "source": []
  },
  {
   "cell_type": "code",
   "execution_count": null,
   "id": "3db80f56-a4b7-435a-9c0b-417042ecf253",
   "metadata": {},
   "outputs": [],
   "source": []
  },
  {
   "cell_type": "markdown",
   "id": "3dfed7e7-f037-40a0-b6e8-03ba6a8a452c",
   "metadata": {},
   "source": [
    "## Tests"
   ]
  },
  {
   "cell_type": "code",
   "execution_count": 3,
   "id": "16884c80-0143-4efd-a1b3-738337add0e1",
   "metadata": {},
   "outputs": [],
   "source": [
    "faiss_index_manual = FAISS.load_local(\"../vectorstores/manual/faiss_index\", embedding_model, allow_dangerous_deserialization=True)\n",
    "retriever_manual = faiss_index_manual.as_retriever(search_kwargs={\"k\": 5})\n",
    "\n",
    "faiss_index_faq = FAISS.load_local(\"../vectorstores/faq/faiss_index\", embedding_model, allow_dangerous_deserialization=True)\n",
    "retriever_faq = faiss_index_faq.as_retriever(search_kwargs={\"k\": 3})"
   ]
  },
  {
   "cell_type": "code",
   "execution_count": 8,
   "id": "dd3cef54-52e8-4865-a88e-30259516be33",
   "metadata": {},
   "outputs": [],
   "source": []
  },
  {
   "cell_type": "code",
   "execution_count": null,
   "id": "8bbbbc2f-87ee-482f-8856-ac09a043d40e",
   "metadata": {},
   "outputs": [],
   "source": []
  },
  {
   "cell_type": "code",
   "execution_count": null,
   "id": "ae77fb8f-f9d6-41e8-b5ac-ffb1eadf2c75",
   "metadata": {},
   "outputs": [],
   "source": []
  },
  {
   "cell_type": "code",
   "execution_count": 23,
   "id": "6df44a59-9c92-433f-ae62-7b5b5debaf29",
   "metadata": {},
   "outputs": [],
   "source": [
    "question = \"Как списать аванс по безналу?\""
   ]
  },
  {
   "cell_type": "markdown",
   "id": "6924be57-e5ba-42a3-8bdb-75f62d6ba78e",
   "metadata": {},
   "source": [
    "## 1 сито"
   ]
  },
  {
   "cell_type": "code",
   "execution_count": 24,
   "id": "91924540-02de-456e-8eaf-e1465edbdee6",
   "metadata": {},
   "outputs": [],
   "source": [
    "retrieved_docs = retriever_manual.invoke(question)"
   ]
  },
  {
   "cell_type": "code",
   "execution_count": 25,
   "id": "aa7adc37-059e-4f84-972f-18865fd47a8f",
   "metadata": {},
   "outputs": [
    {
     "name": "stdout",
     "output_type": "stream",
     "text": [
      "Вот что удалось найти по вопросу\n",
      "\"Как списать аванс по безналу?\"\n",
      "\n",
      "\n",
      "файл: Инструкция D-1C1-1.10.04 Учет банковских операций (НФ)_v2 (28) (1).pdf;\n",
      "пункт: 6.3 «Поступление безналичных ДС»). Высвобождение аванса.;\n",
      "стр. 137\n",
      "\n",
      "==============================\n",
      "\n",
      "файл: Инструкция D-1C1-1.10.04 Учет банковских операций (НФ)_v2 (28) (1).pdf;\n",
      "пункт: 6.2 Возврат аванса, где объектом расчетов является сам документ «Списание безналичных ДС»;\n",
      "стр. 130\n",
      "\n",
      "==============================\n",
      "\n",
      "файл: Инструкция пользователей «D-1C1-1.22.01 Формирование графиков платежей, поступления ДС, поставок, отгрузок».pdf;\n",
      "пункт: Заполнение дат планового погашения авансов в документах «Списание безналичных ДС», «Поступление безналичных ДС»;\n",
      "стр. 22\n",
      "\n",
      "==============================\n",
      "\n",
      "файл: Инструкция D-1C1-1.10.04 Учет банковских операций (НФ)_v2 (28) (1).pdf;\n",
      "пункт: 6.1 Возврат аванса от поставщика, где объект расчета Заказ поставщику;\n",
      "стр. 124\n",
      "\n",
      "==============================\n",
      "\n",
      "файл: Инструкция D-1C1-1.10.04 Учет банковских операций (НФ)_v2 (28) (1).pdf;\n",
      "пункт: Бухгалтер по учету банковских операций: Проверка документа «Списание безналичных денежных средств»;\n",
      "стр. 9\n",
      "\n",
      "==============================\n",
      "\n"
     ]
    }
   ],
   "source": [
    "print(f\"Вот что удалось найти по вопросу\\n\\\"{question}\\\"\\n\\n\")\n",
    "for i, retrieved_doc in enumerate(retrieved_docs):\n",
    "    filename = retrieved_doc.metadata[\"filename\"]\n",
    "    titlename = retrieved_doc.metadata[\"titlename\"]\n",
    "    page = retrieved_doc.metadata[\"page\"]\n",
    "    # print(retrieved_doc.page_content)\n",
    "    print(f\"файл: {filename};\\nпункт: {titlename};\\nстр. {page}\")\n",
    "    print(\"\\n\" + \"=\"*30 + \"\\n\")"
   ]
  },
  {
   "cell_type": "code",
   "execution_count": null,
   "id": "da43ca9b-2e79-4bce-965c-47e54d737621",
   "metadata": {},
   "outputs": [],
   "source": []
  },
  {
   "cell_type": "markdown",
   "id": "01e4cc67-e146-4b83-ac21-ab274ae37c4c",
   "metadata": {},
   "source": [
    "## 2 сито"
   ]
  },
  {
   "cell_type": "code",
   "execution_count": 26,
   "id": "a168f66f-096a-401c-b68b-646696c12b8b",
   "metadata": {},
   "outputs": [],
   "source": [
    "retrieved_docs = retriever_faq.invoke(question)"
   ]
  },
  {
   "cell_type": "code",
   "execution_count": 27,
   "id": "ac4a1254-4fe6-43f1-8bad-884d734bc416",
   "metadata": {},
   "outputs": [
    {
     "name": "stdout",
     "output_type": "stream",
     "text": [
      "Вот что удалось найти по истории сообщений\n",
      "\"Как списать аванс по безналу?\"\n",
      "\n",
      "\n",
      "вопрос:  Здравствуйте.  Через авансовый отчет проходят услуги, по которым НДС надо списать на непринимаемую статью затрат сч.XX.XX.X Невозмещаемый НДС не приним.  Каким образом это сделать?;\n",
      "ответ: Добрый день Елена Всеволодовна! В копии базы проведен АО XX от XX.XX.XXXX, сформированы проводки по которым затраты отнесены на Принимаемую статью, а ндс на Не принимаемую. Закрытие обращения согласовано с пользователем.\n",
      "\n",
      "==============================\n",
      "\n",
      "вопрос: Добрый день! Коллеги, подскажите пожалуйста как заводить авансовую счет фактуру ;\n",
      "ответ: Добрый день Наталья Александровна! Счета-фактуры полученные на аванс (XX.АВ),  в соответствии с целевым отчетным процессом, формируются сотрудниками ЦО.\n",
      "\n",
      "==============================\n",
      "\n",
      "вопрос: Документ не формирует авансовую проводку. Почему?;\n",
      "ответ: Корректировка задолженности по фин. Устанавливаем корректировку кредиторской задолженности. Необходимо установить   флаг изменить курс взаиморасчетов, тогда проводки сформируются. Аванс по услугам аренды. сумма в долларах. Расчетный документ подтянуть. Необходимо установить курс валюты нужный. Я установила на  скрине от XX.XX.XXXX. Затем необходимо в проводках создать на основании Операцию регл. Для конвертации.\n",
      "\n",
      "==============================\n",
      "\n"
     ]
    }
   ],
   "source": [
    "print(f\"Вот что удалось найти по истории сообщений\\n\\\"{question}\\\"\\n\\n\")\n",
    "for i, retrieved_doc in enumerate(retrieved_docs):\n",
    "    _question = retrieved_doc.page_content\n",
    "    answer = retrieved_doc.metadata[\"answer\"]\n",
    "    print(f\"вопрос: {_question};\\nответ: {answer}\")\n",
    "    print(\"\\n\" + \"=\"*30 + \"\\n\")"
   ]
  },
  {
   "cell_type": "code",
   "execution_count": 6,
   "id": "2271a300-215d-4334-9b2c-bff8297cdaca",
   "metadata": {},
   "outputs": [],
   "source": []
  },
  {
   "cell_type": "code",
   "execution_count": null,
   "id": "f3c952ef-0392-47a8-9a08-0862823ad757",
   "metadata": {},
   "outputs": [],
   "source": []
  },
  {
   "cell_type": "code",
   "execution_count": null,
   "id": "cbf07872-9901-4ff6-b40a-13d58be9ca45",
   "metadata": {},
   "outputs": [],
   "source": []
  },
  {
   "cell_type": "code",
   "execution_count": null,
   "id": "b720c41e-e615-4690-b63d-bbf91871e611",
   "metadata": {},
   "outputs": [],
   "source": []
  },
  {
   "cell_type": "code",
   "execution_count": null,
   "id": "662f7611-0796-43c0-94c3-44f18e072b75",
   "metadata": {},
   "outputs": [],
   "source": []
  },
  {
   "cell_type": "code",
   "execution_count": null,
   "id": "6f9d5499-c4c8-4608-a498-6b883dff16e1",
   "metadata": {},
   "outputs": [],
   "source": []
  },
  {
   "cell_type": "code",
   "execution_count": null,
   "id": "cd39aed9-7466-47e6-992d-1656a072e32e",
   "metadata": {},
   "outputs": [],
   "source": []
  }
 ],
 "metadata": {
  "kernelspec": {
   "display_name": "Python 3 (ipykernel)",
   "language": "python",
   "name": "python3"
  },
  "language_info": {
   "codemirror_mode": {
    "name": "ipython",
    "version": 3
   },
   "file_extension": ".py",
   "mimetype": "text/x-python",
   "name": "python",
   "nbconvert_exporter": "python",
   "pygments_lexer": "ipython3",
   "version": "3.11.7"
  }
 },
 "nbformat": 4,
 "nbformat_minor": 5
}
